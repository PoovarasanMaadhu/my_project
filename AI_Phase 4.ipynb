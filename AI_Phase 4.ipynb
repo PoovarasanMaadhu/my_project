{
  "nbformat": 4,
  "nbformat_minor": 0,
  "metadata": {
    "colab": {
      "provenance": []
    },
    "kernelspec": {
      "name": "python3",
      "display_name": "Python 3"
    },
    "language_info": {
      "name": "python"
    }
  },
  "cells": [
    {
      "cell_type": "markdown",
      "source": [
        "##1. Import Libraries:"
      ],
      "metadata": {
        "id": "Mb5Z579-6pl8"
      }
    },
    {
      "cell_type": "code",
      "execution_count": 7,
      "metadata": {
        "id": "rQoCH0Ed6XGh"
      },
      "outputs": [],
      "source": [
        "import pandas as pd\n",
        "import nltk\n",
        "from nltk.corpus import stopwords\n",
        "from nltk.tokenize import word_tokenize\n",
        "from sklearn.model_selection import train_test_split\n"
      ]
    },
    {
      "cell_type": "markdown",
      "source": [
        "##2. Load the Dataset:"
      ],
      "metadata": {
        "id": "xch1_o7i6vOz"
      }
    },
    {
      "cell_type": "code",
      "source": [
        "# Replace 'your_dataset.csv' with the actual path to your dataset\n",
        "df = pd.read_csv('/content/Tweets.csv')\n",
        "\n",
        "# Display the first few rows of the dataset to understand its structure\n",
        "print(df.head())\n"
      ],
      "metadata": {
        "colab": {
          "base_uri": "https://localhost:8080/"
        },
        "id": "FJEg-adG6uum",
        "outputId": "60cfdd6a-ccfa-40df-c6cc-08cccd4205e5"
      },
      "execution_count": 8,
      "outputs": [
        {
          "output_type": "stream",
          "name": "stdout",
          "text": [
            "             tweet_id airline_sentiment  airline_sentiment_confidence  \\\n",
            "0  570306133677760513           neutral                        1.0000   \n",
            "1  570301130888122368          positive                        0.3486   \n",
            "2  570301083672813571           neutral                        0.6837   \n",
            "3  570301031407624196          negative                        1.0000   \n",
            "4  570300817074462722          negative                        1.0000   \n",
            "\n",
            "  negativereason  negativereason_confidence         airline  \\\n",
            "0            NaN                        NaN  Virgin America   \n",
            "1            NaN                     0.0000  Virgin America   \n",
            "2            NaN                        NaN  Virgin America   \n",
            "3     Bad Flight                     0.7033  Virgin America   \n",
            "4     Can't Tell                     1.0000  Virgin America   \n",
            "\n",
            "  airline_sentiment_gold        name negativereason_gold  retweet_count  \\\n",
            "0                    NaN     cairdin                 NaN              0   \n",
            "1                    NaN    jnardino                 NaN              0   \n",
            "2                    NaN  yvonnalynn                 NaN              0   \n",
            "3                    NaN    jnardino                 NaN              0   \n",
            "4                    NaN    jnardino                 NaN              0   \n",
            "\n",
            "                                                text tweet_coord  \\\n",
            "0                @VirginAmerica What @dhepburn said.         NaN   \n",
            "1  @VirginAmerica plus you've added commercials t...         NaN   \n",
            "2  @VirginAmerica I didn't today... Must mean I n...         NaN   \n",
            "3  @VirginAmerica it's really aggressive to blast...         NaN   \n",
            "4  @VirginAmerica and it's a really big bad thing...         NaN   \n",
            "\n",
            "               tweet_created tweet_location               user_timezone  \n",
            "0  2015-02-24 11:35:52 -0800            NaN  Eastern Time (US & Canada)  \n",
            "1  2015-02-24 11:15:59 -0800            NaN  Pacific Time (US & Canada)  \n",
            "2  2015-02-24 11:15:48 -0800      Lets Play  Central Time (US & Canada)  \n",
            "3  2015-02-24 11:15:36 -0800            NaN  Pacific Time (US & Canada)  \n",
            "4  2015-02-24 11:14:45 -0800            NaN  Pacific Time (US & Canada)  \n"
          ]
        }
      ]
    },
    {
      "cell_type": "markdown",
      "source": [
        "##3. Explore the Data:"
      ],
      "metadata": {
        "id": "rSEuovQa6-Sm"
      }
    },
    {
      "cell_type": "code",
      "source": [
        "# Check for missing values\n",
        "print(df.isnull().sum())\n",
        "\n",
        "# Explore the target variable (e.g., 'sentiment')\n",
        "print(df['airline_sentiment'].value_counts())\n"
      ],
      "metadata": {
        "colab": {
          "base_uri": "https://localhost:8080/"
        },
        "id": "YE0-c9TK68AY",
        "outputId": "7fdd29aa-87ef-47be-8487-4ff49dbcd909"
      },
      "execution_count": 9,
      "outputs": [
        {
          "output_type": "stream",
          "name": "stdout",
          "text": [
            "tweet_id                            0\n",
            "airline_sentiment                   0\n",
            "airline_sentiment_confidence        0\n",
            "negativereason                   5462\n",
            "negativereason_confidence        4118\n",
            "airline                             0\n",
            "airline_sentiment_gold          14600\n",
            "name                                0\n",
            "negativereason_gold             14608\n",
            "retweet_count                       0\n",
            "text                                0\n",
            "tweet_coord                     13621\n",
            "tweet_created                       0\n",
            "tweet_location                   4733\n",
            "user_timezone                    4820\n",
            "dtype: int64\n",
            "negative    9178\n",
            "neutral     3099\n",
            "positive    2363\n",
            "Name: airline_sentiment, dtype: int64\n"
          ]
        }
      ]
    },
    {
      "cell_type": "markdown",
      "source": [
        "##4. Text Preprocessing:"
      ],
      "metadata": {
        "id": "Iaz-d3DF7gIA"
      }
    },
    {
      "cell_type": "code",
      "source": [
        "# Download NLTK resources\n",
        "nltk.download('stopwords')\n",
        "nltk.download('punkt')\n",
        "\n",
        "# Text preprocessing function\n",
        "def preprocess_text(text):\n",
        "    # Convert to lowercase\n",
        "    text = text.lower()\n",
        "\n",
        "    # Tokenize the text\n",
        "    words = word_tokenize(text)\n",
        "\n",
        "    # Remove stop words and punctuation\n",
        "    stop_words = set(stopwords.words('english'))\n",
        "    words = [word for word in words if word.isalnum() and word not in stop_words]\n",
        "\n",
        "    # Join the words back into a string\n",
        "    text = ' '.join(words)\n",
        "\n",
        "    return text\n",
        "\n",
        "# Apply preprocessing to the 'text' column\n",
        "df['preprocessed_text'] = df['text'].apply(preprocess_text)\n"
      ],
      "metadata": {
        "colab": {
          "base_uri": "https://localhost:8080/"
        },
        "id": "RJyPKEDy7JcW",
        "outputId": "14a1cf11-d4b2-49f5-8353-ffbeba67acdf"
      },
      "execution_count": 10,
      "outputs": [
        {
          "output_type": "stream",
          "name": "stderr",
          "text": [
            "[nltk_data] Downloading package stopwords to /root/nltk_data...\n",
            "[nltk_data]   Unzipping corpora/stopwords.zip.\n",
            "[nltk_data] Downloading package punkt to /root/nltk_data...\n",
            "[nltk_data]   Unzipping tokenizers/punkt.zip.\n"
          ]
        }
      ]
    },
    {
      "cell_type": "markdown",
      "source": [
        "##5. Split the Dataset:"
      ],
      "metadata": {
        "id": "1yHiKNUV7vE3"
      }
    },
    {
      "cell_type": "code",
      "source": [
        "# Split the dataset\n",
        "train_data, test_data, train_labels, test_labels = train_test_split(\n",
        "    df['preprocessed_text'], df['airline_sentiment'], test_size=0.2, random_state=42\n",
        ")\n",
        "\n",
        "# Display the shapes of the train and test sets\n",
        "print(f\"Train Data Shape: {train_data.shape}\")\n",
        "print(f\"Test Data Shape: {test_data.shape}\")\n"
      ],
      "metadata": {
        "colab": {
          "base_uri": "https://localhost:8080/"
        },
        "id": "bUPCkwwV7oy-",
        "outputId": "2b50ed42-f2c1-4cc3-eac6-7b8b35f8e906"
      },
      "execution_count": 11,
      "outputs": [
        {
          "output_type": "stream",
          "name": "stdout",
          "text": [
            "Train Data Shape: (11712,)\n",
            "Test Data Shape: (2928,)\n"
          ]
        }
      ]
    },
    {
      "cell_type": "markdown",
      "source": [
        "##Import Libraries:\n"
      ],
      "metadata": {
        "id": "VY4L-_GIdB-n"
      }
    },
    {
      "cell_type": "code",
      "source": [
        "import nltk\n",
        "from nltk.sentiment.vader import SentimentIntensityAnalyzer\n"
      ],
      "metadata": {
        "id": "hvKN6EZYam4P"
      },
      "execution_count": 12,
      "outputs": []
    },
    {
      "cell_type": "markdown",
      "source": [
        "### Download VADER lexicon if not already downloaded"
      ],
      "metadata": {
        "id": "GU44DlWue79J"
      }
    },
    {
      "cell_type": "code",
      "source": [
        "nltk.download('vader_lexicon')"
      ],
      "metadata": {
        "colab": {
          "base_uri": "https://localhost:8080/"
        },
        "id": "ltkNuQ-XdOfS",
        "outputId": "8ce38f8c-b6f8-47a8-ec4c-2cab62d83e93"
      },
      "execution_count": 13,
      "outputs": [
        {
          "output_type": "stream",
          "name": "stderr",
          "text": [
            "[nltk_data] Downloading package vader_lexicon to /root/nltk_data...\n",
            "[nltk_data]   Package vader_lexicon is already up-to-date!\n"
          ]
        },
        {
          "output_type": "execute_result",
          "data": {
            "text/plain": [
              "True"
            ]
          },
          "metadata": {},
          "execution_count": 13
        }
      ]
    },
    {
      "cell_type": "markdown",
      "source": [
        "## Initialize the VADER sentiment analyzer"
      ],
      "metadata": {
        "id": "RAQ5XeTufAdF"
      }
    },
    {
      "cell_type": "code",
      "source": [
        "sia = SentimentIntensityAnalyzer()"
      ],
      "metadata": {
        "id": "DU-ssREodSt8"
      },
      "execution_count": 14,
      "outputs": []
    },
    {
      "cell_type": "markdown",
      "source": [
        "## Sample customer feedback"
      ],
      "metadata": {
        "id": "3RSM4HeEfFOV"
      }
    },
    {
      "cell_type": "code",
      "source": [
        "customer_feedback = [\n",
        "    \"I love the competitor's product. It's amazing!\",\n",
        "    \"The competitor's product is good, but it could be better.\",\n",
        "    \"I dislike their customer support. It's terrible.\",\n",
        "    \"The competitor's product is too expensive.\",\n",
        "]\n"
      ],
      "metadata": {
        "id": "zzeE8EatdVe9"
      },
      "execution_count": 15,
      "outputs": []
    },
    {
      "cell_type": "markdown",
      "source": [
        "## Analyze and generate insights from the feedback"
      ],
      "metadata": {
        "id": "CxIe0h4ifKfe"
      }
    },
    {
      "cell_type": "code",
      "source": [
        "for feedback in customer_feedback:\n",
        "    sentiment_scores = sia.polarity_scores(feedback)\n",
        "\n",
        "    # Determine the sentiment\n",
        "    if sentiment_scores['compound'] >= 0.05:\n",
        "        sentiment = \"Positive\"\n",
        "    elif sentiment_scores['compound'] <= -0.05:\n",
        "        sentiment = \"Negative\"\n",
        "    else:\n",
        "        sentiment = \"Neutral\"\n",
        "\n",
        "    # Print feedback and sentiment\n",
        "    print(f\"Feedback: {feedback}\")\n",
        "    print(f\"Sentiment: {sentiment}\")\n",
        "    print(f\"Sentiment Scores: {sentiment_scores}\")\n",
        "    print()\n"
      ],
      "metadata": {
        "colab": {
          "base_uri": "https://localhost:8080/"
        },
        "id": "21noM8dodcdi",
        "outputId": "a821bbd4-d0d0-4924-8c1a-046609cc2202"
      },
      "execution_count": 16,
      "outputs": [
        {
          "output_type": "stream",
          "name": "stdout",
          "text": [
            "Feedback: I love the competitor's product. It's amazing!\n",
            "Sentiment: Positive\n",
            "Sentiment Scores: {'neg': 0.0, 'neu': 0.325, 'pos': 0.675, 'compound': 0.8516}\n",
            "\n",
            "Feedback: The competitor's product is good, but it could be better.\n",
            "Sentiment: Positive\n",
            "Sentiment Scores: {'neg': 0.0, 'neu': 0.58, 'pos': 0.42, 'compound': 0.7003}\n",
            "\n",
            "Feedback: I dislike their customer support. It's terrible.\n",
            "Sentiment: Negative\n",
            "Sentiment Scores: {'neg': 0.5, 'neu': 0.263, 'pos': 0.237, 'compound': -0.4588}\n",
            "\n",
            "Feedback: The competitor's product is too expensive.\n",
            "Sentiment: Neutral\n",
            "Sentiment Scores: {'neg': 0.0, 'neu': 1.0, 'pos': 0.0, 'compound': 0.0}\n",
            "\n"
          ]
        }
      ]
    },
    {
      "cell_type": "code",
      "source": [
        "# Generate overall insights\n",
        "positive_feedback = sum(1 for feedback in customer_feedback if sia.polarity_scores(feedback)['compound'] >= 0.05)\n",
        "negative_feedback = sum(1 for feedback in customer_feedback if sia.polarity_scores(feedback)['compound'] <= -0.05)\n",
        "neutral_feedback = len(customer_feedback) - positive_feedback - negative_feedback\n",
        "\n",
        "print(\"Overall Insights:\")\n",
        "print(f\"Positive Feedback: {positive_feedback} out of {len(customer_feedback)}\")\n",
        "print(f\"Negative Feedback: {negative_feedback} out of {len(customer_feedback)}\")\n",
        "print(f\"Neutral Feedback: {neutral_feedback} out of {len(customer_feedback)}\")\n"
      ],
      "metadata": {
        "colab": {
          "base_uri": "https://localhost:8080/"
        },
        "id": "elm7HxcDanMo",
        "outputId": "a926ce51-e4d6-4f3b-af8a-9e2434eed313"
      },
      "execution_count": 17,
      "outputs": [
        {
          "output_type": "stream",
          "name": "stdout",
          "text": [
            "Overall Insights:\n",
            "Positive Feedback: 2 out of 4\n",
            "Negative Feedback: 1 out of 4\n",
            "Neutral Feedback: 1 out of 4\n"
          ]
        }
      ]
    }
  ]
}